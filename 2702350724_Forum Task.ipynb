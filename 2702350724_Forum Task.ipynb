{
  "metadata": {
    "kernelspec": {
      "name": "python",
      "display_name": "Python (Pyodide)",
      "language": "python"
    },
    "language_info": {
      "codemirror_mode": {
        "name": "python",
        "version": 3
      },
      "file_extension": ".py",
      "mimetype": "text/x-python",
      "name": "python",
      "nbconvert_exporter": "python",
      "pygments_lexer": "ipython3",
      "version": "3.8"
    }
  },
  "nbformat_minor": 5,
  "nbformat": 4,
  "cells": [
    {
      "cell_type": "code",
      "source": "#Forum Task 1\nlloyd = {\n\"name\": \"Lloyd\",\n\"homework\": [90.0,97.0,75.0,92.0],\n\"quizzes\": [88.0,40.0,94.0],\n\"tests\": [75.0,90.0]\n}\nalice = {\n\"name\": \"Alice\",\n\"homework\": [100.0, 92.0, 98.0, 100.0],\n\"quizzes\": [82.0, 83.0, 91.0],\n\"tests\": [89.0, 97.0]\n}\ntyler = {\n\"name\": \"Tyler\",\n\"homework\": [0.0, 87.0, 75.0, 22.0],\n\"quizzes\": [0.0, 75.0, 78.0],\n\"tests\": [100.0, 100.0]\n}\n\nstudents = [lloyd, alice, tyler]\n",
      "metadata": {},
      "execution_count": null,
      "outputs": [],
      "id": "21bca756-242b-4345-b93d-f314ec9c05f5"
    },
    {
      "cell_type": "code",
      "source": "#Forum Task 2\ncourse_codes = {\"COP 2510\", \"EGN 3000L\", \"MAC 2281\", \"MUH 3016\", \"PHY 2048\"}\ncourses_dict = {\n    \"COP 2510\":'Programming Concepts',\n    \"EGN 3000L\": 'Foundations of Engineering Lab',\n    \"MAC 2281\": 'Calculus I',\n    \"MUH 3016\": 'Survey of Jazz',\n    \"PHY 2048\": 'General Physics I',\n}\n\ncourse_instructors = {\n    \"COP 2510\": 'Z. Beasley',\n    \"EGN 3000L\": 'J.Anderson',\n    \"MAC 2281\": 'A.Makaryus',\n    \"MUH 3016\": 'A.Wilkins',\n    \"PHY 2048\": 'G.Pradhan'\n}\n\ncourse_schedule = {\n    \"COP 2510\": 'MW 12:30pm-1:45pm',\n    \"EGN 3000L\": 'TR 11:00am-12:15pm',\n    \"MAC 2281\": 'MW 9:30am-10:45am',\n    \"MUH 3016\": 'online asynchronous',\n    \"PHY 2048\": 'TR 5:00pm-6:15pm'\n}\n\nprint(\"Course Code\")\nfor course in courses_dict.items():\n    print(course)\n\nprint(\"Instructors\")\nfor course, instructor in course_instructors.items():\n    print(course, instructor)\n\nprint(\"Course Schedule\")\nfor course, course_schedule in course_schedule.items():\n    print(course, course_schedule)",
      "metadata": {},
      "execution_count": null,
      "outputs": [],
      "id": "b6095122-720d-400a-b173-c37ef55912fa"
    },
    {
      "cell_type": "code",
      "source": "#Forum Task 3\ndays = (\"Sunday\", 'Monday', 'Tuesday', 'Wednesday', 'Thursday', 'Friday', 'Saturday')\nsales = []\n\nfor day in days:\n    while True:\n        try:\n            sales_input = float(input(f\"Enter the sales on {days}: $))\n            if sales >= 0:\n                sales.append(sales_input)\n                break\n            else:\n                print(\"Invalid. Sales must be more than or equal to 0\")\n        except ValueError\n            print(\"Invalid. Enter valid number pls\")\n\ntotal_sales = sum(sales)\nmin_sale = min(sales)\nmax_sale = max(sales)\n\ntotal_sales_format = \"${:,.2f}\".format(total_sales)\nmin_sale_format = \"${:,.2f}\".format(min_sale)\nmax_sale_format = \"${:,.2f}\".format(max_sale)\n\nprint(f\"The total sale is: {total_sales_format}\")\nprint(f\"The min sale amount was: {min_sale_format}\")\nprint(f\"The Max sale amount was: {max_sale_format\")",
      "metadata": {},
      "execution_count": null,
      "outputs": [],
      "id": "ff1ba7e5-1ebd-4987-a436-445e1702b9e6"
    },
    {
      "cell_type": "code",
      "source": "#Forum Task 4\nmorse_code_dict = {\n    'A': '.-', 'B': '-...', 'C': '-.-.', 'D': '-..', 'E': '.', 'F':'..-.', 'G':'--.', 'H':'....',\n                    'I':'..', 'J':'.---', 'K':'-.-',\n                    'L':'.-..', 'M':'--', 'N':'-.',\n                    'O':'---', 'P':'.--.', 'Q':'--.-',\n                    'R':'.-.', 'S':'...', 'T':'-',\n                    'U':'..-', 'V':'...-', 'W':'.--',\n                    'X':'-..-', 'Y':'-.--', 'Z':'--..',\n                    '1':'.----', '2':'..---', '3':'...--',\n                    '4':'....-', '5':'.....', '6':'-....',\n                    '7':'--...', '8':'---..', '9':'----.',\n                    '0':'-----', ', ':'--..--', '.':'.-.-.-',\n                    '?':'..--..', '/':'-..-.', '-':'-....-',\n                    '(':'-.--.', ')':'-.--.-'\n}\n\ndef string_to_morse_code(input_string):\n    morse_code = ''\n    for chr in input_string:\n        char = char.upper()\n        if char in morse_code_dict:\n            morse_code += morse_code_dict[char] + ''\n        else:\n             morse_code += ''\n    return morse_code\n\nuser_input = input('Enter: ')\nmorse_code_result = string_to_morse_code(user_input)\n\nprint(morse_code_result)",
      "metadata": {},
      "execution_count": null,
      "outputs": [],
      "id": "072c9da3-a380-4f2f-a164-58446da969df"
    }
  ]
}